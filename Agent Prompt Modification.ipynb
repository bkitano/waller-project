{
 "cells": [
  {
   "attachments": {},
   "cell_type": "markdown",
   "metadata": {},
   "source": [
    "# Agents Prompt Modification"
   ]
  },
  {
   "attachments": {},
   "cell_type": "markdown",
   "metadata": {},
   "source": [
    "In this notebook, we demonstrate an agent that changes the prompt of another agent. This would constitute a kind of quality intelligence improvement."
   ]
  },
  {
   "cell_type": "code",
   "execution_count": null,
   "metadata": {},
   "outputs": [],
   "source": [
    "# an evaluator agent evaluates the performance of a task agent\n",
    "# the evaluator agent stores a prompt for a task agent in a file\n",
    "# the task agent performs a task and stores a transcript of its actions to a file\n",
    "# the evaluator reads the transcript and evaluates the task agent's performance\n",
    "# the evaluator decides how to change the task agent's prompt based on the performance\n",
    "# the task agent reads the new prompt and performs the task again"
   ]
  }
 ],
 "metadata": {
  "language_info": {
   "name": "python"
  },
  "orig_nbformat": 4
 },
 "nbformat": 4,
 "nbformat_minor": 2
}
